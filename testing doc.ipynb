{
 "cells": [
  {
   "cell_type": "code",
   "execution_count": 5,
   "metadata": {
    "collapsed": false
   },
   "outputs": [
    {
     "name": "stdout",
     "output_type": "stream",
     "text": [
      "[[ 0  1  2]\n",
      " [ 3  4  5]\n",
      " [ 6  7  8]\n",
      " [ 9 10 11]]\n"
     ]
    },
    {
     "data": {
      "text/plain": [
       "array([[ 600,  700,  800],\n",
       "       [ 900, 1000, 1100]])"
      ]
     },
     "execution_count": 5,
     "metadata": {},
     "output_type": "execute_result"
    }
   ],
   "source": [
    "import numpy as np\n",
    "x=np.arange(12).reshape((4,3))\n",
    "print(x)\n",
    "y=x[-2:,:].copy()#-2nd row and everything down, everything in those rows\n",
    "y*=100\n",
    "y"
   ]
  },
  {
   "cell_type": "code",
   "execution_count": 18,
   "metadata": {
    "collapsed": false
   },
   "outputs": [],
   "source": [
    "def myfn(arr):\n",
    "    #arr=arr.copy()\n",
    "    arr=arr*2\n",
    "    #print('hi')\n",
    "    print(arr)"
   ]
  },
  {
   "cell_type": "code",
   "execution_count": 19,
   "metadata": {
    "collapsed": false
   },
   "outputs": [
    {
     "data": {
      "text/plain": [
       "array([[ 0,  1,  2],\n",
       "       [ 3,  4,  5],\n",
       "       [ 6,  7,  8],\n",
       "       [ 9, 10, 11]])"
      ]
     },
     "execution_count": 19,
     "metadata": {},
     "output_type": "execute_result"
    }
   ],
   "source": [
    "x"
   ]
  },
  {
   "cell_type": "code",
   "execution_count": 15,
   "metadata": {
    "collapsed": false
   },
   "outputs": [
    {
     "name": "stdout",
     "output_type": "stream",
     "text": [
      "[[ 0  2  4]\n",
      " [ 6  8 10]\n",
      " [12 14 16]\n",
      " [18 20 22]]\n"
     ]
    }
   ],
   "source": [
    "myfn(x)"
   ]
  },
  {
   "cell_type": "code",
   "execution_count": 17,
   "metadata": {
    "collapsed": false
   },
   "outputs": [
    {
     "data": {
      "text/plain": [
       "array([[ 0,  1,  2],\n",
       "       [ 3,  4,  5],\n",
       "       [ 6,  7,  8],\n",
       "       [ 9, 10, 11]])"
      ]
     },
     "execution_count": 17,
     "metadata": {},
     "output_type": "execute_result"
    }
   ],
   "source": [
    "x"
   ]
  },
  {
   "cell_type": "code",
   "execution_count": 23,
   "metadata": {
    "collapsed": false
   },
   "outputs": [],
   "source": [
    "N=1000\n",
    "x=-1+2*np.random.rand(N)\n",
    "y=-1+2*np.random.rand(N)\n",
    "inside=(x**2+y**2<1).sum()\n",
    "frac=inside*1./N"
   ]
  },
  {
   "cell_type": "code",
   "execution_count": 31,
   "metadata": {
    "collapsed": false
   },
   "outputs": [],
   "source": [
    "def myfunction(x,y, z=10):\n",
    "    print('x is {0}, y is {1}, z is {2}'.format(x,y,z))"
   ]
  },
  {
   "cell_type": "code",
   "execution_count": 33,
   "metadata": {
    "collapsed": false
   },
   "outputs": [
    {
     "name": "stdout",
     "output_type": "stream",
     "text": [
      "x is 4, y is 3, z is 10\n"
     ]
    }
   ],
   "source": [
    "myfunction(4,3)"
   ]
  },
  {
   "cell_type": "code",
   "execution_count": 24,
   "metadata": {
    "collapsed": true
   },
   "outputs": [],
   "source": [
    "import numpy as np\n",
    "from __future__ import division\n",
    "\n",
    "def estimatePi(N):\n",
    "    inside=(x**2+y**2<1).sum()\n",
    "    frac=inside*1./N\n",
    "    pi=frac*4\n",
    "    return pi"
   ]
  },
  {
   "cell_type": "code",
   "execution_count": 28,
   "metadata": {
    "collapsed": false
   },
   "outputs": [],
   "source": [
    "Ns=[10,100,1000,10000,100000]\n",
    "pis=[estimatePi(N) for N in Ns]"
   ]
  },
  {
   "cell_type": "code",
   "execution_count": 29,
   "metadata": {
    "collapsed": false
   },
   "outputs": [
    {
     "name": "stdout",
     "output_type": "stream",
     "text": [
      "320.0\n",
      "32.0\n",
      "3.2\n",
      "0.32\n",
      "0.032\n"
     ]
    }
   ],
   "source": [
    "for N in Ns:\n",
    "    print(estimatePi(N))"
   ]
  },
  {
   "cell_type": "code",
   "execution_count": 3,
   "metadata": {
    "collapsed": false
   },
   "outputs": [
    {
     "data": {
      "text/plain": [
       "<zip at 0x10589be08>"
      ]
     },
     "execution_count": 3,
     "metadata": {},
     "output_type": "execute_result"
    }
   ],
   "source": [
    "zip(x,y)"
   ]
  },
  {
   "cell_type": "code",
   "execution_count": 4,
   "metadata": {
    "collapsed": false
   },
   "outputs": [
    {
     "name": "stdout",
     "output_type": "stream",
     "text": [
      "1 1\n",
      "2 2\n",
      "3 3\n",
      "4 4\n",
      "5 5\n"
     ]
    }
   ],
   "source": [
    "for a,b in zip (x,y):\n",
    "    print(a,b)"
   ]
  },
  {
   "cell_type": "code",
   "execution_count": 8,
   "metadata": {
    "collapsed": true
   },
   "outputs": [],
   "source": [
    "animal=['dog', 'cat', 'bat']"
   ]
  },
  {
   "cell_type": "code",
   "execution_count": 9,
   "metadata": {
    "collapsed": false
   },
   "outputs": [
    {
     "name": "stdout",
     "output_type": "stream",
     "text": [
      "dog\n",
      "cat\n",
      "bat\n"
     ]
    }
   ],
   "source": [
    "i=0\n",
    "for i in animal:\n",
    "    print(i)"
   ]
  },
  {
   "cell_type": "code",
   "execution_count": 16,
   "metadata": {
    "collapsed": true
   },
   "outputs": [],
   "source": []
  },
  {
   "cell_type": "code",
   "execution_count": 17,
   "metadata": {
    "collapsed": false
   },
   "outputs": [],
   "source": [
    "import numpy as np"
   ]
  },
  {
   "cell_type": "code",
   "execution_count": 22,
   "metadata": {
    "collapsed": false
   },
   "outputs": [],
   "source": [
    "a=np.nonzero((3,5))"
   ]
  },
  {
   "cell_type": "code",
   "execution_count": 25,
   "metadata": {
    "collapsed": true
   },
   "outputs": [],
   "source": [
    "b=np.linspace(0,2.5,100, False)"
   ]
  },
  {
   "cell_type": "code",
   "execution_count": 26,
   "metadata": {
    "collapsed": false
   },
   "outputs": [
    {
     "data": {
      "text/plain": [
       "(array([0, 1]),)"
      ]
     },
     "execution_count": 26,
     "metadata": {},
     "output_type": "execute_result"
    }
   ],
   "source": [
    "a"
   ]
  },
  {
   "cell_type": "code",
   "execution_count": null,
   "metadata": {
    "collapsed": false
   },
   "outputs": [],
   "source": []
  },
  {
   "cell_type": "code",
   "execution_count": 29,
   "metadata": {
    "collapsed": false
   },
   "outputs": [],
   "source": [
    "c=np.array(range(10))"
   ]
  },
  {
   "cell_type": "code",
   "execution_count": 30,
   "metadata": {
    "collapsed": false
   },
   "outputs": [
    {
     "data": {
      "text/plain": [
       "array([0, 1, 2, 3, 4, 5, 6, 7, 8, 9])"
      ]
     },
     "execution_count": 30,
     "metadata": {},
     "output_type": "execute_result"
    }
   ],
   "source": [
    "c"
   ]
  },
  {
   "cell_type": "code",
   "execution_count": 31,
   "metadata": {
    "collapsed": true
   },
   "outputs": [],
   "source": [
    "d=np.array([2,4,6])"
   ]
  },
  {
   "cell_type": "code",
   "execution_count": 32,
   "metadata": {
    "collapsed": false
   },
   "outputs": [
    {
     "data": {
      "text/plain": [
       "array([2, 4, 6])"
      ]
     },
     "execution_count": 32,
     "metadata": {},
     "output_type": "execute_result"
    }
   ],
   "source": [
    "d"
   ]
  },
  {
   "cell_type": "code",
   "execution_count": 33,
   "metadata": {
    "collapsed": false
   },
   "outputs": [
    {
     "name": "stdout",
     "output_type": "stream",
     "text": [
      "[2 4 6]\n"
     ]
    }
   ],
   "source": [
    "print(d)"
   ]
  },
  {
   "cell_type": "code",
   "execution_count": null,
   "metadata": {
    "collapsed": false
   },
   "outputs": [],
   "source": []
  },
  {
   "cell_type": "code",
   "execution_count": null,
   "metadata": {
    "collapsed": false
   },
   "outputs": [],
   "source": []
  },
  {
   "cell_type": "code",
   "execution_count": 1,
   "metadata": {
    "collapsed": false
   },
   "outputs": [
    {
     "name": "stdout",
     "output_type": "stream",
     "text": [
      "pi is 3.16\n",
      "calculates in 2.284068614244461e-06  seconds\n",
      "pi is 3.5\n",
      "calculates in 2.03580129891634e-05  seconds\n",
      "pi is 3.47\n",
      "calculates in 0.00016974681057035923  seconds\n",
      "pi is 3.49296\n",
      "calculates in 0.0019912919960916042  seconds\n"
     ]
    }
   ],
   "source": [
    "import numpy as np\n",
    "import math\n",
    "import matplotlib.pyplot as plt\n",
    "import timeit\n",
    "points=[100,1000,10000,100000]\n",
    "sqrt=math.sqrt\n",
    "inside=0\n",
    "for npoints in points:\n",
    "    for i in range(0,npoints):\n",
    "        circ=np.random.rand(1,2)\n",
    "        x=circ[:,0]\n",
    "        y=circ[:,1]\n",
    "        #print('x is', x)\n",
    "        r=sqrt(x**2+y**2)\n",
    "        #print('circ is', circ)\n",
    "        #print('this was',i)\n",
    "        if r<=1:\n",
    "            inside+=1\n",
    "            #print('good radius is ',r)\n",
    "    pi=4*inside/npoints\n",
    "    print('pi is', pi)\n",
    "    time=timeit.timeit(number=npoints)\n",
    "    print('calculates in',time, ' seconds')"
   ]
  },
  {
   "cell_type": "code",
   "execution_count": 36,
   "metadata": {
    "collapsed": false
   },
   "outputs": [
    {
     "name": "stdout",
     "output_type": "stream",
     "text": [
      "3.1432 0.522430626974\n",
      "3.14272 0.165308806783\n",
      "3.143892 0.0513541851849\n",
      "3.1417652 0.016437257343\n",
      "3.14176988 0.00507001285852\n"
     ]
    }
   ],
   "source": [
    "import numpy as np\n",
    "import math\n",
    "import matplotlib.pyplot as plt\n",
    "import timeit\n",
    "points=[10, 100,1000,10000,100000]\n",
    "sqrt=math.sqrt\n",
    "inside=0\n",
    "repeat=1\n",
    "Nruns=1000\n",
    "if repeat:\n",
    "    points=[10, 100,1000,10000,100000]\n",
    "    length=len(points)\n",
    "    pis=[]\n",
    "   \n",
    "    pisst=[]\n",
    "    for i in range(0,length):\n",
    "        pisj=[]\n",
    "        for j in range(0,Nruns):\n",
    "            N=points[i]\n",
    "            x=-1+2*np.random.rand(N)\n",
    "            y=-1+2*np.random.rand(N)\n",
    "            inside=(x**2+y**2<1).sum()\n",
    "            pi=4*inside/N\n",
    "            #print('pi is', pi)\n",
    "            pisj.append(pi)\n",
    "        pisj=np.array(pisj)\n",
    "        #print(pism)\n",
    "        print(pisj.mean(), pisj.std())\n",
    "        #pis.append(pi)\n",
    "        #pisst.append(pisj)\n",
    "    #print(pisst)\n",
    "    #pisst=np.array(pisst)"
   ]
  },
  {
   "cell_type": "code",
   "execution_count": 45,
   "metadata": {
    "collapsed": false
   },
   "outputs": [],
   "source": [
    "import numpy as np\n",
    "data = np.genfromtxt('/Users/amandanewmark/repositories/usrp-sciprog/projects/hubble/table1.txt', dtype=None, names=True)"
   ]
  },
  {
   "cell_type": "code",
   "execution_count": 47,
   "metadata": {
    "collapsed": false
   },
   "outputs": [
    {
     "data": {
      "text/plain": [
       "array([ 0.032,  0.034,  0.214,  0.263,  0.275,  0.275,  0.45 ,  0.5  ,\n",
       "        0.5  ,  0.63 ,  0.8  ,  0.9  ,  0.9  ,  0.9  ,  0.9  ,  1.   ,\n",
       "        1.1  ,  1.1  ,  1.4  ,  1.7  ,  2.   ,  2.   ,  2.   ,  2.   ])"
      ]
     },
     "execution_count": 47,
     "metadata": {},
     "output_type": "execute_result"
    }
   ],
   "source": [
    "data['R']"
   ]
  },
  {
   "cell_type": "code",
   "execution_count": null,
   "metadata": {
    "collapsed": true
   },
   "outputs": [],
   "source": []
  }
 ],
 "metadata": {
  "kernelspec": {
   "display_name": "Python 3",
   "language": "python",
   "name": "python3"
  },
  "language_info": {
   "codemirror_mode": {
    "name": "ipython",
    "version": 3
   },
   "file_extension": ".py",
   "mimetype": "text/x-python",
   "name": "python",
   "nbconvert_exporter": "python",
   "pygments_lexer": "ipython3",
   "version": "3.5.1"
  }
 },
 "nbformat": 4,
 "nbformat_minor": 0
}

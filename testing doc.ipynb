{
 "cells": [
  {
   "cell_type": "code",
   "execution_count": 19,
   "metadata": {
    "collapsed": false
   },
   "outputs": [
    {
     "name": "stdout",
     "output_type": "stream",
     "text": [
      "Slope of fitted graph:  -2.60205999133\n"
     ]
    },
    {
     "data": {
      "image/png": "[encoded data removed]",
      "text/plain": [
       "<matplotlib.figure.Figure at 0x10d8ed080>"
      ]
     },
     "metadata": {},
     "output_type": "display_data"
    }
   ],
   "source": [
    "%matplotlib inline \n",
    "import matplotlib.pyplot as plt\n",
    "import numpy as np\n",
    "#plt.rc('text', usetex=True)\n",
    "plt.plot(np.log10([10**1,10**2]), np.log10([2*10**6, 5*10**3]), c='k')\n",
    "plt.ylabel('Density M$\\odot$/kpc$^3$')\n",
    "plt.xlabel('r[kpc]')\n",
    "\n",
    "m=(np.log10(2*10**6)-np.log10(5*10**3))/(np.log10(10)-np.log10(10**2))\n",
    "print('Slope of fitted graph: ', m)\n",
    "plt.title('Pillepich Estimate')\n",
    "plt.show()"
   ]
  },
  {
   "cell_type": "code",
   "execution_count": 127,
   "metadata": {
    "collapsed": false
   },
   "outputs": [],
   "source": [
    "import astropy.table as table \n",
    "indir='/Users/amandanewmark/Downloads/'\n",
    "fh=open(indir+'mstar_dens_pillepich.txt')\n",
    "x = []\n",
    "for line in fh.readlines():\n",
    "    y = [value for value in line.split()]\n",
    "    x.append( y )\n",
    "\n",
    "fh.close()\n",
    "\n",
    "\n",
    "rad=[]\n",
    "lumd=[]\n",
    "for i in range(0, len(x)):\n",
    "    x0=float(x[i][0])\n",
    "    x1=float(x[i][1])\n",
    "    rad.append(x0)\n",
    "    lumd.append(x1)\n",
    "\n",
    "rad=np.array(rad)\n",
    "lumd=np.array(lumd)\n",
    "\n",
    "from scipy import interpolate\n",
    "maxL=np.max(lumd)\n",
    "r12=26.56  #15\n",
    "rvir=68.57  #526\n",
    "error=np.ones((len(rad)))\n",
    "\n",
    "rcut=rad[(rad>=r12)&(rad<=rvir)]\n",
    "lumcut=lumd[(rad>=r12)&(rad<=rvir)]\n",
    "errcut=error[(rad>=r12)&(rad<=rvir)]\n",
    "\n",
    "def my_linregress3(x,y,err):\t#This one works!\n",
    "\timport numpy as np\n",
    "\timport math\n",
    "\timport scipy.stats as stats\n",
    "\timport scipy.optimize as opt\n",
    "\t#print('My linear regression!')\n",
    "\tN=len(x)\n",
    "\tSigma = err**2*np.eye(N)\n",
    "\tAh = np.vstack([x, np.ones(len(x))]).T\n",
    "\tAe=np.dot(Ah.T, np.dot(np.linalg.inv(Sigma), Ah))\n",
    "\tbe=np.dot(Ah.T, np.dot(np.linalg.inv(Sigma), y))### or y.T\n",
    "\thuh=np.linalg.lstsq(Ae, be)[0]\n",
    "\tslope=huh[0]\n",
    "\tinter=huh[1]\n",
    "\tS = np.linalg.inv(Ae)\n",
    "\tslope_err=np.sqrt(S[0,0])\n",
    "\treturn slope, inter, slope_err\n",
    "\n",
    "rcut=np.log10(rcut)\n",
    "ldcut=np.log10(lumcut)\n",
    "sl3, C3, std_err3=my_linregress3(rcut, ldcut, errcut)"
   ]
  },
  {
   "cell_type": "code",
   "execution_count": 128,
   "metadata": {
    "collapsed": false
   },
   "outputs": [
    {
     "name": "stdout",
     "output_type": "stream",
     "text": [
      "[   5.0879    7.515    10.017    12.3      14.796    18.929    22.307\n",
      "   24.718    27.39     32.279    40.456    52.83     60.994    68.989\n",
      "   78.032    90.091   104.01    117.65    127.71    141.52    156.82\n",
      "  170.24    177.37    196.55    213.37    222.31    241.33    267.42\n",
      "  278.63  ]\n",
      "[ 5.51620696  5.30993662  5.02635303  4.69119378  4.51072323]\n"
     ]
    },
    {
     "data": {
      "text/plain": [
       "<matplotlib.legend.Legend at 0x1148ace80>"
      ]
     },
     "execution_count": 128,
     "metadata": {},
     "output_type": "execute_result"
    },
    {
     "data": {
      "image/png": "[encoded data removed]",
      "text/plain": [
       "<matplotlib.figure.Figure at 0x114e300f0>"
      ]
     },
     "metadata": {},
     "output_type": "display_data"
    }
   ],
   "source": [
    "from my_style import get_presentation\n",
    "get_presentation()\n",
    "lograd=np.log10(rad)\n",
    "loglum=np.log10(lumd)\n",
    "\n",
    "print(rad)\n",
    "\n",
    "y=sl3*rcut+C3\n",
    "print(y)\n",
    "plt.scatter(lograd, loglum)\n",
    "plt.plot(rcut, y, c='r')\n",
    "plt.plot(0,0,label='Slope is '+str(np.round(sl3,3)) +'+-'+ str(np.round(std_err3,3)))\n",
    "plt.ylabel('Density M$\\odot$/kpc$^3$')\n",
    "plt.xlabel('r[kpc]')\n",
    "plt.xlim(0,2.5)\n",
    "plt.legend(loc=0)"
   ]
  },
  {
   "cell_type": "code",
   "execution_count": null,
   "metadata": {
    "collapsed": false
   },
   "outputs": [],
   "source": []
  },
  {
   "cell_type": "code",
   "execution_count": null,
   "metadata": {
    "collapsed": false
   },
   "outputs": [],
   "source": []
  },
  {
   "cell_type": "code",
   "execution_count": null,
   "metadata": {
    "collapsed": false
   },
   "outputs": [],
   "source": []
  },
  {
   "cell_type": "code",
   "execution_count": null,
   "metadata": {
    "collapsed": false
   },
   "outputs": [],
   "source": []
  },
  {
   "cell_type": "code",
   "execution_count": null,
   "metadata": {
    "collapsed": false
   },
   "outputs": [],
   "source": []
  },
  {
   "cell_type": "code",
   "execution_count": null,
   "metadata": {
    "collapsed": true
   },
   "outputs": [],
   "source": []
  },
  {
   "cell_type": "code",
   "execution_count": null,
   "metadata": {
    "collapsed": false
   },
   "outputs": [],
   "source": []
  },
  {
   "cell_type": "code",
   "execution_count": null,
   "metadata": {
    "collapsed": false
   },
   "outputs": [],
   "source": []
  },
  {
   "cell_type": "code",
   "execution_count": 147,
   "metadata": {
    "collapsed": false
   },
   "outputs": [],
   "source": []
  },
  {
   "cell_type": "raw",
   "metadata": {
    "collapsed": false
   },
   "source": []
  },
  {
   "cell_type": "code",
   "execution_count": 133,
   "metadata": {
    "collapsed": false
   },
   "outputs": [],
   "source": []
  },
  {
   "cell_type": "code",
   "execution_count": 118,
   "metadata": {
    "collapsed": false
   },
   "outputs": [
    {
     "name": "stdout",
     "output_type": "stream",
     "text": [
      "     DEC      \n",
      "--------------\n",
      "-2.02979606758\n",
      "-1.56056045924\n",
      "-1.49409512166\n",
      "-1.72636025993\n",
      " -1.5068636764\n",
      "  -1.571278805\n",
      "-1.56177778266\n",
      "-1.49249337305\n",
      "-1.82517659659\n"
     ]
    }
   ],
   "source": [
    "import astropy.table as table \n",
    "indir='/Users/amandanewmark/repositories/galaxy_dark_matter/GAH/'\n",
    "bigdata = table.Table.read(indir+ 'LOWZ_HSCGAMA15_apmgs+cmodmag.fits')\n",
    "print(bigdata['DEC'][1:10])\n",
    "\n",
    "bigdata[['RA', 'DEC']].write('file.csv')"
   ]
  },
  {
   "cell_type": "code",
   "execution_count": null,
   "metadata": {
    "collapsed": false
   },
   "outputs": [],
   "source": []
  },
  {
   "cell_type": "code",
   "execution_count": 16,
   "metadata": {
    "collapsed": true
   },
   "outputs": [],
   "source": []
  },
  {
   "cell_type": "code",
   "execution_count": null,
   "metadata": {
    "collapsed": false
   },
   "outputs": [],
   "source": []
  },
  {
   "cell_type": "code",
   "execution_count": 22,
   "metadata": {
    "collapsed": false
   },
   "outputs": [],
   "source": []
  },
  {
   "cell_type": "code",
   "execution_count": 25,
   "metadata": {
    "collapsed": true
   },
   "outputs": [],
   "source": []
  },
  {
   "cell_type": "code",
   "execution_count": null,
   "metadata": {
    "collapsed": false
   },
   "outputs": [],
   "source": []
  },
  {
   "cell_type": "code",
   "execution_count": null,
   "metadata": {
    "collapsed": false
   },
   "outputs": [],
   "source": []
  },
  {
   "cell_type": "code",
   "execution_count": null,
   "metadata": {
    "collapsed": false
   },
   "outputs": [],
   "source": []
  },
  {
   "cell_type": "code",
   "execution_count": null,
   "metadata": {
    "collapsed": false
   },
   "outputs": [],
   "source": []
  },
  {
   "cell_type": "code",
   "execution_count": null,
   "metadata": {
    "collapsed": true
   },
   "outputs": [],
   "source": []
  },
  {
   "cell_type": "code",
   "execution_count": null,
   "metadata": {
    "collapsed": false
   },
   "outputs": [],
   "source": []
  },
  {
   "cell_type": "code",
   "execution_count": null,
   "metadata": {
    "collapsed": false
   },
   "outputs": [],
   "source": []
  },
  {
   "cell_type": "code",
   "execution_count": null,
   "metadata": {
    "collapsed": false
   },
   "outputs": [],
   "source": []
  },
  {
   "cell_type": "code",
   "execution_count": null,
   "metadata": {
    "collapsed": false
   },
   "outputs": [],
   "source": []
  },
  {
   "cell_type": "code",
   "execution_count": null,
   "metadata": {
    "collapsed": false
   },
   "outputs": [],
   "source": []
  },
  {
   "cell_type": "code",
   "execution_count": null,
   "metadata": {
    "collapsed": false
   },
   "outputs": [],
   "source": []
  },
  {
   "cell_type": "code",
   "execution_count": null,
   "metadata": {
    "collapsed": false
   },
   "outputs": [],
   "source": []
  },
  {
   "cell_type": "code",
   "execution_count": null,
   "metadata": {
    "collapsed": false
   },
   "outputs": [],
   "source": []
  },
  {
   "cell_type": "code",
   "execution_count": null,
   "metadata": {
    "collapsed": false
   },
   "outputs": [],
   "source": []
  },
  {
   "cell_type": "code",
   "execution_count": null,
   "metadata": {
    "collapsed": false
   },
   "outputs": [],
   "source": []
  },
  {
   "cell_type": "code",
   "execution_count": null,
   "metadata": {
    "collapsed": false
   },
   "outputs": [],
   "source": []
  },
  {
   "cell_type": "code",
   "execution_count": null,
   "metadata": {
    "collapsed": false
   },
   "outputs": [],
   "source": []
  },
  {
   "cell_type": "code",
   "execution_count": null,
   "metadata": {
    "collapsed": true
   },
   "outputs": [],
   "source": []
  }
 ],
 "metadata": {
  "kernelspec": {
   "display_name": "Python 3",
   "language": "python",
   "name": "python3"
  },
  "language_info": {
   "codemirror_mode": {
    "name": "ipython",
    "version": 3
   },
   "file_extension": ".py",
   "mimetype": "text/x-python",
   "name": "python",
   "nbconvert_exporter": "python",
   "pygments_lexer": "ipython3",
   "version": "3.5.1"
  }
 },
 "nbformat": 4,
 "nbformat_minor": 0
}

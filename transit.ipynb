{
 "cells": [
  {
   "cell_type": "code",
   "execution_count": 104,
   "metadata": {
    "collapsed": false
   },
   "outputs": [
    {
     "name": "stdout",
     "output_type": "stream",
     "text": [
      " imag_cmodel \n",
      "-------------\n",
      " 17.678775935\n",
      "17.9217855799\n",
      "18.0612481821\n",
      "18.1969581275\n",
      "          0.0\n",
      "18.2878018563\n",
      "18.2573519425\n",
      "18.3484569628\n",
      "18.7740060443\n",
      "17.7321516093\n",
      "          ...\n",
      " 16.991087929\n",
      "18.2984205403\n",
      "18.8096958145\n",
      "19.3884485013\n",
      "18.0485383297\n",
      "17.4634227278\n",
      " 17.887408025\n",
      "17.1271832217\n",
      "18.5505705852\n",
      "19.0436739411\n",
      "16.1080572225\n",
      "Length = 2269 rows\n"
     ]
    }
   ],
   "source": [
    "%matplotlib inline\n",
    "# this will plot the magnitudes for saturated and unsaturated galaxies in i\n",
    "\n",
    "indir='/Users/amandanewmark/repositories/galaxy_dark_matter/GAH/'\n",
    "\n",
    "outdir='/Users/amandanewmark/repositories/galaxy_dark_matter/lumprofplots/single_plot/'\n",
    "\n",
    "import numpy as np\n",
    "import math\n",
    "import matplotlib.pyplot as plt\n",
    "import matplotlib.text as txt\n",
    "from astropy.io import fits\n",
    "import astropy.table as table \n",
    "import matplotlib.patches as mpatches\n",
    "from sympy import *\n",
    "import os, sys\n",
    "\n",
    "datatab = table.Table.read(indir+ 'LOWZ_HSCGAMA15_apmgs.fits')\n",
    "\n",
    "from defcuts import *\n",
    "from defflags import *\n",
    "\n",
    "band='i'\n",
    "\n",
    "parm=['flags_pixel_saturated_center','flags_pixel_edge','flags_pixel_interpolated_center','flags_pixel_cr_center','flags_pixel_suspect_center', 'flags_pixel_clipped_any','flags_pixel_bad']\n",
    "\n",
    "Flags=['flags_pixel_bright_object_center', 'No Flags', 'No Bright Ojbect Centers', 'Only Bright Object Centers', 'brobj_cen_flag']\n",
    "\n",
    "#first do outlier cut\n",
    "\n",
    "print(datatab['imag_cmodel'])"
   ]
  },
  {
   "cell_type": "code",
   "execution_count": null,
   "metadata": {
    "collapsed": false
   },
   "outputs": [],
   "source": []
  },
  {
   "cell_type": "code",
   "execution_count": null,
   "metadata": {
    "collapsed": false
   },
   "outputs": [],
   "source": []
  },
  {
   "cell_type": "code",
   "execution_count": 74,
   "metadata": {
    "collapsed": false
   },
   "outputs": [],
   "source": []
  },
  {
   "cell_type": "code",
   "execution_count": null,
   "metadata": {
    "collapsed": false
   },
   "outputs": [],
   "source": [
    "\n"
   ]
  },
  {
   "cell_type": "raw",
   "metadata": {
    "collapsed": false
   },
   "source": []
  },
  {
   "cell_type": "code",
   "execution_count": null,
   "metadata": {
    "collapsed": false
   },
   "outputs": [],
   "source": []
  },
  {
   "cell_type": "code",
   "execution_count": null,
   "metadata": {
    "collapsed": false
   },
   "outputs": [],
   "source": []
  },
  {
   "cell_type": "code",
   "execution_count": null,
   "metadata": {
    "collapsed": false
   },
   "outputs": [],
   "source": []
  },
  {
   "cell_type": "code",
   "execution_count": null,
   "metadata": {
    "collapsed": true
   },
   "outputs": [],
   "source": []
  },
  {
   "cell_type": "code",
   "execution_count": null,
   "metadata": {
    "collapsed": true
   },
   "outputs": [],
   "source": []
  }
 ],
 "metadata": {
  "kernelspec": {
   "display_name": "Python 3",
   "language": "python",
   "name": "python3"
  },
  "language_info": {
   "codemirror_mode": {
    "name": "ipython",
    "version": 3
   },
   "file_extension": ".py",
   "mimetype": "text/x-python",
   "name": "python",
   "nbconvert_exporter": "python",
   "pygments_lexer": "ipython3",
   "version": "3.5.1"
  }
 },
 "nbformat": 4,
 "nbformat_minor": 0
}

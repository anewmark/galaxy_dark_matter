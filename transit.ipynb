{
 "cells": [
  {
   "cell_type": "code",
   "execution_count": 8,
   "metadata": {
    "collapsed": false
   },
   "outputs": [
    {
     "name": "stdout",
     "output_type": "stream",
     "text": [
      "Length before notequal cuts=  1561\n",
      "Length after notequal cuts=  1438\n",
      "Initial length is  1438\n",
      "\n",
      "Length after g flags_pixel_saturated_center is  1438\n",
      "\n",
      "Length after g flags_pixel_edge is  1399\n",
      "\n",
      "Length after g flags_pixel_interpolated_center is  1399\n",
      "\n",
      "Length after g flags_pixel_cr_center is  1399\n",
      "\n",
      "Length after g flags_pixel_suspect_center is  1399\n",
      "\n",
      "Length after g flags_pixel_clipped_any is  1339\n",
      "\n",
      "Length after g flags_pixel_bad is  1339\n",
      "Initial length is  1339\n",
      "\n",
      "Length after r flags_pixel_saturated_center is  1339\n",
      "\n",
      "Length after r flags_pixel_edge is  1293\n",
      "\n",
      "Length after r flags_pixel_interpolated_center is  1293\n",
      "\n",
      "Length after r flags_pixel_cr_center is  1293\n",
      "\n",
      "Length after r flags_pixel_suspect_center is  1293\n",
      "\n",
      "Length after r flags_pixel_clipped_any is  1222\n",
      "\n",
      "Length after r flags_pixel_bad is  1222\n",
      "Initial length is  1222\n",
      "\n",
      "Length after i flags_pixel_saturated_center is  1222\n",
      "\n",
      "Length after i flags_pixel_edge is  1222\n",
      "\n",
      "Length after i flags_pixel_interpolated_center is  1222\n",
      "\n",
      "Length after i flags_pixel_cr_center is  1222\n",
      "\n",
      "Length after i flags_pixel_suspect_center is  1222\n",
      "\n",
      "Length after i flags_pixel_clipped_any is  1222\n",
      "\n",
      "Length after i flags_pixel_bad is  1222\n",
      "Initial length is  1222\n",
      "\n",
      "Length after z flags_pixel_saturated_center is  1222\n",
      "\n",
      "Length after z flags_pixel_edge is  1214\n",
      "\n",
      "Length after z flags_pixel_interpolated_center is  1214\n",
      "\n",
      "Length after z flags_pixel_cr_center is  1214\n",
      "\n",
      "Length after z flags_pixel_suspect_center is  1214\n",
      "\n",
      "Length after z flags_pixel_clipped_any is  1075\n",
      "\n",
      "Length after z flags_pixel_bad is  1075\n",
      "Number of OK galaxies in band  i =  738\n",
      "Number of flagged galaxies in band  i =  337\n"
     ]
    }
   ],
   "source": [
    "import astropy.table as table \n",
    "import numpy as np\n",
    "from defcuts import *\n",
    "from defflags import *\n",
    "\n",
    "from def_get_mags import *\n",
    "\n",
    "bands=['g', 'r', 'i','z', 'y']\n",
    "daperture=[1.01,1.51,2.02,3.02,4.03,5.71,8.40,11.8,16.8,23.5]\n",
    "aperture=[x*0.5 for x in daperture]\n",
    "\n",
    "ty='mean'\n",
    "tag='outcut'\n",
    "txtdist= 'Figure2'\n",
    "txtslope='Figure1'\n",
    "\n",
    "outdir='/Users/amandanewmark/repositories/galaxy_dark_matter/lumprofplots/clumps/'+ty+tag\n",
    "doutdir='/Users/amandanewmark/repositories/galaxy_dark_matter/lumprofplots/distribution/'+ty+tag\n",
    "Flags=['flags_pixel_bright_object_center', 'brobj_cen_flag-', 'No Bright Ojbect Centers', 'Only Bright Object Centers', 'brobj_cen_flag']\n",
    "\n",
    "indir='/Users/amandanewmark/repositories/galaxy_dark_matter/GAH/'\n",
    "bigdata = table.Table.read(indir+ 'LOWZ_HSCGAMA15_apmgs+cmodmag.fits')\n",
    "def do_cuts(datatab):\n",
    "\tparm=['flags_pixel_saturated_center','flags_pixel_edge','flags_pixel_interpolated_center','flags_pixel_cr_center','flags_pixel_suspect_center', 'flags_pixel_clipped_any','flags_pixel_bad']\n",
    "\tne=[99.99, 199.99, 0.0]\n",
    "\tmincut=0.1\n",
    "\tmaxcut=''\n",
    "\tcutdata=not_cut(datatab, bands, 'mag_forced_cmodel', ne)\n",
    "\tfor b in range(0, len(bands)-1):\n",
    "\t\tnewdata=many_flags(cutdata, parm, bands[b])\t#flags not in y?\n",
    "\t\tcutdata=newdata\n",
    "\t\n",
    "\treturn newdata\n",
    "def get_TF(data):\n",
    "\tbandi=['i']\n",
    "\tFlag, Not,lab= TFflag(bandi,Flags, data)\n",
    "\treturn Flag, Not\t\n",
    "\t\n",
    "newdata=do_cuts(bigdata)\n",
    "\n",
    "Flagdat, Notdat=get_TF(newdata)"
   ]
  },
  {
   "cell_type": "code",
   "execution_count": 13,
   "metadata": {
    "collapsed": false
   },
   "outputs": [],
   "source": [
    "def get_ind_lums(newdata, bands, aperture, scale=''):\n",
    "\timport numpy as np\n",
    "\tfrom def_get_mags import get_zdistmod, get_kcorrect2, aper_and_comov, abs2lum, lumdensity, abs_mag\n",
    "\timport math\n",
    "\tfrom defclump import meanlum2\n",
    "\tfrom my_def_plots import halflight_plot, scatter_fit\n",
    "\tfrom scipy import interpolate\n",
    "\timport matplotlib.pyplot as plt\n",
    "\tfrom def_mymath import halflight\n",
    "\tNaps=len(aperture)\n",
    "\tNdat=len(newdata)\n",
    "\ttry:\n",
    "\t\tredshifts=newdata['Z']\n",
    "\t\tDM= get_zdistmod(newdata, 'Z')\n",
    "\texcept:\n",
    "\t\tredshifts=newdata['Z_2']\n",
    "\t\tDM= get_zdistmod(newdata, 'Z_2')\n",
    "\tkcorrect=get_kcorrect2(newdata,'mag_forced_cmodel', '_err', bands, '','hsc_filters.dat',redshifts)\n",
    "\tfig=plt.figure()\n",
    "\tbigLI=[]\n",
    "\tbigrad=[]\n",
    "\tbigden=[]\n",
    "\tfor n in range(0, Ndat):\n",
    "\t\tLI=[]\n",
    "\t\tLI2=[]\n",
    "\t\tlumdi=[]\n",
    "\t\tstring=str(n)\n",
    "\t\tradkpc=aper_and_comov(aperture, redshifts[n])\n",
    "\t\t#print('redshifts is ', redshifts[n])\n",
    "\t\tfor a in range(0, Naps):\t#this goes through every aperture\n",
    "\t\t\tns=str(a)\n",
    "\t\t\t#print('aperture0',ns)\n",
    "\t\t\tabsg, absr, absi, absz, absy= abs_mag(newdata[n], 'mag_aperture0', kcorrect, DM[n], bands, ns, n) \n",
    "\t\t\tLumg, Lumr, Lumi, Lumz, Lumy=abs2lum(absg, absr, absi, absz, absy)\t\t\t\n",
    "\t\t\tLg, Lr, Li, Lz, Ly=lumdensity(Lumg, Lumr, Lumi, Lumz, Lumy, radkpc[a])\n",
    "\t\t\tif scale== 'log':\n",
    "\t\t\t\t#print('getting logs')\n",
    "\t\t\t\tlogLumi=math.log10(Lumi)\n",
    "\t\t\t\tlogLi=math.log10(Li)\n",
    "\t\t\t\tLI.append(logLumi)\n",
    "\t\t\t\tlumdi.append(logLi)\n",
    "\t\t\telse:\n",
    "\t\t\t\tLI.append(Lumi)\n",
    "\t\t\t\tlumdi.append(Li)\n",
    "\t\t#print('LI for ',n,' galaxy is ', LI)\n",
    "\t\tbigLI.append(LI)\n",
    "\t\tbigden.append(lumdi)\n",
    "\t\tif scale== 'log':\n",
    "\t\t\tlograd=[math.log10(radkpc[n]) for n in range(len(radkpc))]\n",
    "\t\t\tbigrad.append(lograd)\n",
    "\t\telse:\n",
    "\t\t\tbigrad.append(radkpc)\n",
    "\tbigLIs=np.array(bigLI)\n",
    "\tbigrads=np.array(bigrad)\n",
    "\tlumdensi=np.array(bigden)\n",
    "\treturn bigLIs, bigrads, lumdensi\n",
    "\t\n",
    "\n",
    "\n",
    "def my_halflight2(dat1):\n",
    "    loglum, lograd, loglumd= get_ind_lums(dat1, bands, aperture, scale='log')\n",
    "    return loglum, lograd, loglumd"
   ]
  },
  {
   "cell_type": "code",
   "execution_count": 14,
   "metadata": {
    "collapsed": false
   },
   "outputs": [
    {
     "name": "stdout",
     "output_type": "stream",
     "text": [
      "We are going to get the distance modulus given a z shift\n",
      "It takes a while to load the filters...\n"
     ]
    }
   ],
   "source": [
    "loglum, lograd, loglumd=my_halflight2(Flagdat)"
   ]
  },
  {
   "cell_type": "raw",
   "metadata": {
    "collapsed": false
   },
   "source": []
  },
  {
   "cell_type": "markdown",
   "metadata": {
    "collapsed": false
   },
   "source": []
  },
  {
   "cell_type": "code",
   "execution_count": 17,
   "metadata": {
    "collapsed": false
   },
   "outputs": [
    {
     "name": "stdout",
     "output_type": "stream",
     "text": [
      "loglum=  [ 10.08514366  10.28325523  10.39613408  10.5228502   10.5926832\n",
      "  10.66357323  10.72481998  10.76632673  10.79643768  10.81490321]\n",
      "[ 10.08923982  10.27712324  10.38573219  10.50327077  10.56483895\n",
      "  10.632004    10.69684611  10.73785265  10.75903158  10.76631068] [ 0.30075352  0.47540909  0.60178351  0.77643909  0.90173719  1.05306825\n",
      "  1.22071143  1.36831415  1.52174142  1.6675    ]\n",
      "from halflight_math\n",
      "0\n",
      "0.7199880067358955\n",
      "1.32204799806\n",
      "not enough data points\n"
     ]
    },
    {
     "ename": "IndexError",
     "evalue": "index 1 is out of bounds for axis 0 with size 0",
     "output_type": "error",
     "traceback": [
      "\u001b[0;31m---------------------------------------------------------------------------\u001b[0m",
      "\u001b[0;31mIndexError\u001b[0m                                Traceback (most recent call last)",
      "\u001b[0;32m<ipython-input-17-fdcb1f14bd3b>\u001b[0m in \u001b[0;36m<module>\u001b[0;34m()\u001b[0m\n\u001b[1;32m     48\u001b[0m         \u001b[0;32mreturn\u001b[0m \u001b[0mnloglum\u001b[0m\u001b[0;34m,\u001b[0m \u001b[0mnlograd\u001b[0m\u001b[0;34m,\u001b[0m \u001b[0mnlogden\u001b[0m\u001b[0;34m\u001b[0m\u001b[0m\n\u001b[1;32m     49\u001b[0m \u001b[0;34m\u001b[0m\u001b[0m\n\u001b[0;32m---> 50\u001b[0;31m \u001b[0mloglum\u001b[0m\u001b[0;34m,\u001b[0m \u001b[0mlograd\u001b[0m\u001b[0;34m,\u001b[0m \u001b[0mloglumd\u001b[0m\u001b[0;34m=\u001b[0m \u001b[0mupper_rad_cut\u001b[0m\u001b[0;34m(\u001b[0m\u001b[0mloglum\u001b[0m\u001b[0;34m,\u001b[0m \u001b[0mlograd\u001b[0m\u001b[0;34m,\u001b[0m \u001b[0mloglumd\u001b[0m\u001b[0;34m,\u001b[0m \u001b[0;36m4\u001b[0m\u001b[0;34m)\u001b[0m\u001b[0;34m\u001b[0m\u001b[0m\n\u001b[0m",
      "\u001b[0;32m/Users/amandanewmark/repositories/galaxy_dark_matter/halflight_first.py\u001b[0m in \u001b[0;36mupper_rad_cut\u001b[0;34m(loglum, lograd, logden, m)\u001b[0m\n\u001b[1;32m     12\u001b[0m         \u001b[0;32mfor\u001b[0m \u001b[0mn\u001b[0m \u001b[0;32min\u001b[0m \u001b[0mrange\u001b[0m\u001b[0;34m(\u001b[0m\u001b[0mN\u001b[0m\u001b[0;34m)\u001b[0m\u001b[0;34m:\u001b[0m\u001b[0;34m\u001b[0m\u001b[0m\n\u001b[1;32m     13\u001b[0m                 \u001b[0mloglums\u001b[0m\u001b[0;34m=\u001b[0m\u001b[0mloglum\u001b[0m\u001b[0;34m[\u001b[0m\u001b[0mn\u001b[0m\u001b[0;34m]\u001b[0m\u001b[0;34m\u001b[0m\u001b[0m\n\u001b[0;32m---> 14\u001b[0;31m                 \u001b[0mlograds\u001b[0m\u001b[0;34m=\u001b[0m\u001b[0mlograd\u001b[0m\u001b[0;34m[\u001b[0m\u001b[0mn\u001b[0m\u001b[0;34m]\u001b[0m\u001b[0;34m\u001b[0m\u001b[0m\n\u001b[0m\u001b[1;32m     15\u001b[0m                 \u001b[0mlogdens\u001b[0m\u001b[0;34m=\u001b[0m\u001b[0mlogden\u001b[0m\u001b[0;34m[\u001b[0m\u001b[0mn\u001b[0m\u001b[0;34m]\u001b[0m\u001b[0;34m\u001b[0m\u001b[0m\n\u001b[1;32m     16\u001b[0m                 \u001b[0;31m#print(loglums, lograds)\u001b[0m\u001b[0;34m\u001b[0m\u001b[0;34m\u001b[0m\u001b[0m\n",
      "\u001b[0;31mIndexError\u001b[0m: index 1 is out of bounds for axis 0 with size 0"
     ]
    }
   ],
   "source": [
    "def get_halfrad(lograds, loglums):\n",
    "\tfrom scipy import interpolate\n",
    "\timport math\n",
    "\timport numpy as np\n",
    "\tprint('from halflight_math')\n",
    "\tmaxlums=10**np.max(loglums)\n",
    "\thalfL=maxlums/2\n",
    "\tloghalfL=np.log10(halfL)\n",
    "\t\n",
    "\tf=interpolate.interp1d(loglums,lograds, kind='linear', axis=-1)\n",
    "\t\n",
    "\tlogr12=f(loghalfL)\n",
    "\treturn logr12\n",
    "\n",
    "def upper_rad_cut1(loglum, lograd, logden, m): #this should get rid of galaxies outside 4r1/2\n",
    "\tfrom def_halflight_math import get_halfrad\n",
    "\tnloglum=[]\n",
    "\tnlograd=[]\n",
    "\tnlogden=[]\n",
    "\tmult=m\n",
    "\tprint(len(loglum), len(lograd))\n",
    "\tN=len(lograd)\n",
    "\tfor n in range(N):\n",
    "\t\tloglums=loglum[n]\n",
    "\t\tlograds=lograd[n]\n",
    "\t\tlogdens=logden[n]\n",
    "\t\t#print(loglums, lograds)\n",
    "\t\tlogr12=get_halfrad(lograds,loglums)\n",
    "\t\tprint(n)\n",
    "\t\tr12=10**logr12\n",
    "\t\tprint(logr12)\n",
    "\t\tr412=mult*r12\n",
    "\t\tlogr412=np.log10(r412)\n",
    "\t\tprint(logr412)\n",
    "\t\tif np.max(lograds) >= logr412:\n",
    "\t\t\tlograd=lograds[(lograds>=logr412)&(lograds<=logr412)]\n",
    "\t\t\tif len(lograd)>=4:\n",
    "\t\t\t\tnloglum.append(loglums)\n",
    "\t\t\t\tnlograd.append(lograds)\n",
    "\t\t\t\tnlogden.append(logdens)\n",
    "\t\t\telse:\n",
    "\t\t\t\tprint('not enough data points')\n",
    "\t\telse:\n",
    "\t\t\tprint('Upper limit out of range')\n",
    "\tnloglum=np.array(nloglum)\n",
    "\tnlograd=np.array(nlograd)\n",
    "\tnlogden=np.array(nlogden)\n",
    "\treturn nloglum, nlograd, nlogden\n",
    "    \n",
    "loglum, lograd, loglumd= upper_rad_cut(loglum, lograd, loglumd, 4)"
   ]
  },
  {
   "cell_type": "code",
   "execution_count": null,
   "metadata": {
    "collapsed": false
   },
   "outputs": [],
   "source": []
  },
  {
   "cell_type": "code",
   "execution_count": null,
   "metadata": {
    "collapsed": false
   },
   "outputs": [],
   "source": []
  },
  {
   "cell_type": "code",
   "execution_count": null,
   "metadata": {
    "collapsed": false
   },
   "outputs": [],
   "source": []
  },
  {
   "cell_type": "code",
   "execution_count": null,
   "metadata": {
    "collapsed": true
   },
   "outputs": [],
   "source": []
  }
 ],
 "metadata": {
  "kernelspec": {
   "display_name": "Python 3",
   "language": "python",
   "name": "python3"
  },
  "language_info": {
   "codemirror_mode": {
    "name": "ipython",
    "version": 3
   },
   "file_extension": ".py",
   "mimetype": "text/x-python",
   "name": "python",
   "nbconvert_exporter": "python",
   "pygments_lexer": "ipython3",
   "version": "3.5.1"
  }
 },
 "nbformat": 4,
 "nbformat_minor": 0
}
